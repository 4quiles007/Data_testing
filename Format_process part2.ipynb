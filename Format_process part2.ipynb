{
 "cells": [
  {
   "cell_type": "markdown",
   "metadata": {},
   "source": [
    "El primer paso es desacargar las cartolas y exienten 2 principalmente \n"
   ]
  },
  {
   "cell_type": "code",
   "execution_count": 1,
   "metadata": {},
   "outputs": [
    {
     "ename": "ModuleNotFoundError",
     "evalue": "No module named 'pandas'",
     "output_type": "error",
     "traceback": [
      "\u001b[0;31m---------------------------------------------------------------------------\u001b[0m",
      "\u001b[0;31mModuleNotFoundError\u001b[0m                       Traceback (most recent call last)",
      "Cell \u001b[0;32mIn[1], line 2\u001b[0m\n\u001b[1;32m      1\u001b[0m \u001b[38;5;66;03m#### LIBRERIAS Y CONFIGS GLOBALES\u001b[39;00m\n\u001b[0;32m----> 2\u001b[0m \u001b[38;5;28;01mimport\u001b[39;00m \u001b[38;5;21;01mpandas\u001b[39;00m \u001b[38;5;28;01mas\u001b[39;00m \u001b[38;5;21;01mpd\u001b[39;00m\n\u001b[1;32m      3\u001b[0m \u001b[38;5;28;01mimport\u001b[39;00m \u001b[38;5;21;01mnumpy\u001b[39;00m \u001b[38;5;28;01mas\u001b[39;00m \u001b[38;5;21;01mnp\u001b[39;00m\n\u001b[1;32m      4\u001b[0m pd\u001b[38;5;241m.\u001b[39mset_option(\u001b[38;5;124m'\u001b[39m\u001b[38;5;124mdisplay.max_rows\u001b[39m\u001b[38;5;124m'\u001b[39m, \u001b[38;5;28;01mNone\u001b[39;00m)\n",
      "\u001b[0;31mModuleNotFoundError\u001b[0m: No module named 'pandas'"
     ]
    }
   ],
   "source": [
    "#### LIBRERIAS Y CONFIGS GLOBALES\n",
    "import pandas as pd\n",
    "import numpy as np\n",
    "pd.set_option('display.max_rows', None)\n",
    "pd.set_option('display.max_columns', None)\n",
    "\n",
    "############ FUNCTION ################\n",
    "\n",
    "# Define una función para recorrer el DataFrame y mostrar el contenido de cada celda y eliminar basura a nivel fila\n",
    "def iterar_filas_columnas(root_file,tipo_doc,mes):\n",
    "    df = pd.read_excel(f'{root_file}{tipo_doc}{mes}.xls')\n",
    "    max_row_to_delete= list()\n",
    "    for i, fila in enumerate(df.index):\n",
    "        lista_valores_fila = list()\n",
    "        for j, columna in enumerate(df.columns):\n",
    "            contenido_celda = df.loc[fila, columna]\n",
    "            lista_valores_fila.append(contenido_celda)\n",
    "        if  all(pd.isna(elemento) for elemento in lista_valores_fila):\n",
    "            max_row_to_delete.append(fila)\n",
    "    df.drop(max_row_to_delete,inplace=True)\n",
    "    return df\n",
    "\n",
    "def drop_columns_nan(root_file,tipo_doc,mes):   ## deja un dataframe solo con valores , eliminando basura\n",
    "    df2 = iterar_filas_columnas(root_file,tipo_doc,mes)\n",
    "    for columna in df2.columns:\n",
    "        # Verifica si todos los valores en la columna son nulos\n",
    "        if df2[columna].isnull().all():\n",
    "            # Elimina la columna si todos los valores son nulos\n",
    "            df2.drop(columna, axis=1, inplace=True)\n",
    "    df2.reset_index(drop=True,inplace=True)  # resetear índice de filas\n",
    "    df2.columns = range(df2.shape[1])  # resetear índice de columnas\n",
    "    return df2\n",
    "\n",
    "def data_table_format(root_file,tipo_doc,mes):\n",
    "    df2 = drop_columns_nan(root_file,tipo_doc,mes)\n",
    "    headers_values = []\n",
    "    expected_headers = ['categoría', 'fecha', 'descripción', '-', 'cuotas', 'monto ($)', '-'] ### cuales son los headers a dejar \n",
    "    deleted_rows_not_table = 0 ## almacena hasta donde se va a eliminar datos que no son propios de la tabla de datos\n",
    "    for indice, fila in df2.iterrows():\n",
    "        valores_fila = pd.DataFrame({'Columna': fila})\n",
    "        valores_fila = valores_fila.fillna('-')\n",
    "        valores_fila = valores_fila['Columna'].tolist()\n",
    "        print(valores_fila)\n",
    "        # Comparación insensible a mayúsculas y minúsculas y sin espacios adicionales\n",
    "        valores_fila_strip = [valor.strip().lower() if isinstance(valor, str) else valor for valor in valores_fila]\n",
    "        if valores_fila_strip == [header.lower() for header in expected_headers]:\n",
    "            headers_values.append(valores_fila)\n",
    "            deleted_rows_not_table = indice\n",
    "            df2.drop(list(range(deleted_rows_not_table)),inplace=True) ## elimina hasta el valor de indice que cohincide con el header esperado\n",
    "            print(f'Eliminar filas hasta la fila: {deleted_rows_not_table}')\n",
    "    nuevos_encabezados = df2.iloc[0] \n",
    "    df2.rename(columns=nuevos_encabezados,inplace = True)  # Establecer los nuevos encabezados de columna\n",
    "    df2.drop(df2.index[0], inplace=True)\n",
    "    df2.reset_index(drop=True,inplace=True)\n",
    "    df2.drop(df2.index[-1], inplace=True)  ## eliminar la ultima fila innecesaria de datos\n",
    "    df2.dropna(axis=1, how='all',inplace=True)\n",
    "    return df2\n",
    "\n",
    "root_file = 'Mov_Facturado_'\n",
    "nacional_type_file = 'nacional_'\n",
    "internacional_type_file = 'internacional_'\n",
    "month = 'enero'\n",
    "\n",
    "##iterar_filas_columnas(root_file,nacional_type_file,month)\n",
    "data1=data_table_format(root_file,nacional_type_file,month)\n",
    "data1\n",
    "data11=data_table_format(root_file,internacional_type_file,month)\n",
    "data11\n",
    "data2=data_table_format(root_file,nacional_type_file,'febrero')\n",
    "data22=data_table_format(root_file,internacional_type_file,'febrero')\n",
    "data3=data_table_format(root_file,nacional_type_file,'marzo')\n",
    "data33=data_table_format(root_file,internacional_type_file,'marzo')\n",
    "\n",
    "data_global_operation = pd.concat([data1,data2,data3])\n",
    "df_reset = data_global_operation.reset_index(drop=True)\n",
    "# Exportar el DataFrame reseteado a un archivo Excel\n",
    "# Puedes especificar el nombre del archivo que deseas crear\n",
    "nombre_archivo_excel = 'cartola_movimientos_credito.xlsx'\n",
    "df_reset.to_excel(nombre_archivo_excel, index=False,)\n",
    "data_global_operation\n",
    "\n",
    "\n",
    "\n",
    "\n"
   ]
  },
  {
   "cell_type": "code",
   "execution_count": 85,
   "metadata": {},
   "outputs": [],
   "source": [
    "\n",
    "#data1 = data_table_format(root_file,1)\n",
    "#data2 = data_table_format(root_file,2)\n",
    "#data3 = data_table_format(root_file,3)\n",
    "#\n"
   ]
  },
  {
   "cell_type": "code",
   "execution_count": 86,
   "metadata": {},
   "outputs": [],
   "source": [
    "##ordenar df por fecha \n",
    "\n",
    "#data1['Fecha'] = pd.to_datetime(data1['Fecha'],format='%d/%m/%Y')\n",
    "#data1['Fecha'] = data1['Fecha'].dt.strftime('%d-%m-%Y')\n",
    "#data1 = data1.sort_values(by='Fecha')\n",
    "#data2['Fecha'] = pd.to_datetime(data2['Fecha'],format='%d/%m/%Y')\n",
    "#data2['Fecha'] = data2['Fecha'].dt.strftime('%d-%m-%Y')\n",
    "#data2 = data2.sort_values(by='Fecha')\n",
    "#data3['Fecha'] = pd.to_datetime(data3['Fecha'],format='%d/%m/%Y')\n",
    "#data3['Fecha'] = data3['Fecha'].dt.strftime('%d-%m-%Y')\n",
    "#data3 = data3.sort_values(by='Fecha')\n",
    "#data_global_operation = pd.concat([data1,data2,data3])\n",
    "#"
   ]
  },
  {
   "cell_type": "code",
   "execution_count": 87,
   "metadata": {},
   "outputs": [],
   "source": [
    "#df_reset = data_global_operation.reset_index(drop=True)\n",
    "## Exportar el DataFrame reseteado a un archivo Excel\n",
    "## Puedes especificar el nombre del archivo que deseas crear\n",
    "#nombre_archivo_excel = 'cartola_cuenta_corriente.xlsx'\n",
    "#df_reset.to_excel(nombre_archivo_excel, index=False,)\n",
    "#data_global_operation"
   ]
  }
 ],
 "metadata": {
  "kernelspec": {
   "display_name": "Python 3",
   "language": "python",
   "name": "python3"
  },
  "language_info": {
   "codemirror_mode": {
    "name": "ipython",
    "version": 3
   },
   "file_extension": ".py",
   "mimetype": "text/x-python",
   "name": "python",
   "nbconvert_exporter": "python",
   "pygments_lexer": "ipython3",
   "version": "3.9.6"
  }
 },
 "nbformat": 4,
 "nbformat_minor": 2
}
